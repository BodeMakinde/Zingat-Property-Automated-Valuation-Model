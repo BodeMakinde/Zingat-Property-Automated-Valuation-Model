{
 "cells": [
  {
   "cell_type": "markdown",
   "metadata": {},
   "source": [
    "# Problem"
   ]
  },
  {
   "cell_type": "markdown",
   "metadata": {},
   "source": [
    "Real estate is changing. Deep learning is leading the way to many new methods of determing how to price a property at a competitive rate. \n",
    "Real estate is complex. Multiple of levels of complexity e.g uneven transactions, . Zingat operates as an intermediary between potential buyers and sellers in the real estate market. In this regard, to help both parties we routinely value and monitor real estate market. For this purpose, They regularly build new and better models using new technologies in the field of data science. Not only with automated valuation models that predict house prices, they also employ time series models to understand market trends. "
   ]
  },
  {
   "cell_type": "code",
   "execution_count": null,
   "metadata": {},
   "outputs": [],
   "source": []
  }
 ],
 "metadata": {
  "kernelspec": {
   "display_name": "Python 3",
   "language": "python",
   "name": "python3"
  },
  "language_info": {
   "codemirror_mode": {
    "name": "ipython",
    "version": 3
   },
   "file_extension": ".py",
   "mimetype": "text/x-python",
   "name": "python",
   "nbconvert_exporter": "python",
   "pygments_lexer": "ipython3",
   "version": "3.8.3"
  }
 },
 "nbformat": 4,
 "nbformat_minor": 4
}
